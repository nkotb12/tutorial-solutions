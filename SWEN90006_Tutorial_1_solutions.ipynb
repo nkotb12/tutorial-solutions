{
  "nbformat": 4,
  "nbformat_minor": 0,
  "metadata": {
    "colab": {
      "name": "SWEN90006 Tutorial 1 solutions.ipynb",
      "provenance": [],
      "toc_visible": true,
      "authorship_tag": "ABX9TyNj+Gwr5Sc8IU8zGUAgJUAR",
      "include_colab_link": true
    },
    "kernelspec": {
      "name": "python3",
      "display_name": "Python 3"
    },
    "language_info": {
      "name": "python"
    }
  },
  "cells": [
    {
      "cell_type": "markdown",
      "metadata": {
        "id": "view-in-github",
        "colab_type": "text"
      },
      "source": [
        "<a href=\"https://colab.research.google.com/github/SWEN90006/tutorial-solutions-private/blob/main/SWEN90006_Tutorial_1_solutions.ipynb\" target=\"_parent\"><img src=\"https://colab.research.google.com/assets/colab-badge.svg\" alt=\"Open In Colab\"/></a>"
      ]
    },
    {
      "cell_type": "markdown",
      "metadata": {
        "id": "W666SGsjveJ8"
      },
      "source": [
        "# SWEN90006 Tutorial 1 solutions"
      ]
    },
    {
      "cell_type": "markdown",
      "metadata": {
        "id": "97NvDjmHviEb"
      },
      "source": [
        "## Task 1: find_last\n",
        "\n",
        "1. The input domain is $int [] \\times int$. That is, a set of pairs, in which the first element is an array of integers and the second element is an integer.\n",
        "\n",
        "2. The fault is that the line  ```i > 0``` should be ```i >= 0```. The faulty version does not inspect the element at ```x[0]```.\n",
        "3. Any input falls in the input domain will execute the faulty statement.\n",
        "4. Any case with a last element, where the element is not in position 0. Or, the element ```y``` is not in the list.\n",
        "5. Any case in which the element is not in the list. When the loop\n",
        "   executes, the state is in error, but will not be revealed.\n"
      ]
    },
    {
      "cell_type": "markdown",
      "metadata": {
        "id": "DyHx4gIrxGyb"
      },
      "source": [
        "## Task 2: last_zero\n",
        "1. The input domain is $int []$.\n",
        "2. The loop should iterate backwards instead of forwards.\n",
        "3. All inputs execute the fault.\n",
        "4. Any list with no zeros, or any list with exactly one zero.\n",
        "5. Any non-empty list with no zeros, or any list with exactly one zero."
      ]
    },
    {
      "cell_type": "markdown",
      "metadata": {
        "id": "vB_ymu6kxfTe"
      },
      "source": [
        "## Task 3: count_positive\n",
        "1. The input domain is $int []$.\n",
        "2. ```x[i] >= 0``` should be ```x[i] > 0```: it should count only strictly positive elements\n",
        "3. An empty list (```x = []```).\n",
        "4. Any list with no occurrence of 0.\n",
        "5. None!"
      ]
    },
    {
      "cell_type": "markdown",
      "metadata": {
        "id": "Nrr9gWjpx8Go"
      },
      "source": [
        "## Discussion\n",
        "\n",
        "The point of this exercise is three-fold:\n",
        "\n",
        "1. To illustrate the difference between testing and debugging. In SWEN90006, we cover testing, but not debugging. As part of this exercise, we did debugging to determine where the fault is.\n",
        "\n",
        "2. To clarify the terminology of faults, failures, and errors. Faults and failures are quite often confused, and importantly, the term \"bugs\" is used to mean both. In SWEN90006, the term \"bugs\" is disallowed due to its ambiguity.\n",
        "\n",
        "3. To illustrate an important point about coverage-based testing (which we will cover later in the subject): just executing every statement of a program is a *necessary but not sufficient* condition for a good test suite. It is not only possible to execute a statement but not trigger an error, but to trigger an error that does NOT result in a failure.\n",
        "\n",
        "  These cases are known as *coincidental correctness*, and are exceedingly common in real-world software."
      ]
    }
  ]
}